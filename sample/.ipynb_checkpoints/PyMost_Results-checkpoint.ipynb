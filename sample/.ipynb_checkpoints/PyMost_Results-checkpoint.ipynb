{
 "cells": [
  {
   "cell_type": "code",
   "execution_count": 1,
   "id": "f310e311-42ef-4a84-b5d5-61e63d467ee4",
   "metadata": {},
   "outputs": [],
   "source": [
    "import pandas as pd\n",
    "import matplotlib.pyplot as plt\n",
    "from astropy.time import Time\n",
    "from astropy import units as u\n",
    "from astropy.timeseries import TimeSeries\n",
    "import numpy as np\n",
    "import cv2 as cv"
   ]
  },
  {
   "cell_type": "code",
   "execution_count": 2,
   "id": "8fe17a65-21b8-4db6-8ff6-9e703693865a",
   "metadata": {},
   "outputs": [],
   "source": [
    "import hvpy\n",
    "from sunpy.map import Map\n",
    "from sunpy.coordinates import frames\n",
    "from sunpy.map.maputils import all_coordinates_from_map, coordinate_is_on_solar_disk"
   ]
  },
  {
   "cell_type": "markdown",
   "id": "17d0dc4f-dc43-4f72-afeb-11eef7aa254a",
   "metadata": {},
   "source": [
    "# 1° Creating the necessary time series:"
   ]
  },
  {
   "cell_type": "markdown",
   "id": "715241ee-75a6-42cb-ab0a-a19af1ca7f9b",
   "metadata": {},
   "source": [
    "## Current"
   ]
  },
  {
   "cell_type": "code",
   "execution_count": 5,
   "id": "19790a3f-cdad-46de-b705-cfc9bb469e09",
   "metadata": {},
   "outputs": [
    {
     "name": "stderr",
     "output_type": "stream",
     "text": [
      "/tmp/ipykernel_3711/2807975453.py:8: UserWarning: Could not infer format, so each element will be parsed individually, falling back to `dateutil`. To ensure parsing is consistent and as-expected, please specify a format.\n",
      "  atual[\"Date\"] = pd.to_datetime(atual[\"Date\"], errors=\"coerce\").dt.normalize()\n"
     ]
    }
   ],
   "source": [
    "# Lê só as colunas necessárias e já tenta parsear a data\n",
    "atual = pd.read_csv(\n",
    "    \"Sunspots_1.csv\",\n",
    "    usecols=[\"Date\", \"Lat\", \"Lon\", \"Area\"]\n",
    ")\n",
    "\n",
    "# Converte a coluna Date para datetime e normaliza para o dia (00:00)\n",
    "atual[\"Date\"] = pd.to_datetime(atual[\"Date\"], errors=\"coerce\").dt.normalize()\n",
    "\n",
    "# Define o índice como a data e mantém só as duas séries pedidas\n",
    "atual = (\n",
    "    atual\n",
    "    .set_index(\"Date\")[[\"Lat\", \"Lon\", \"Area\"]]\n",
    "    .sort_index()\n",
    ")\n",
    "\n",
    "# agora `atual` é um \"time series\" pandas com DateTimeIndex\n"
   ]
  },
  {
   "cell_type": "code",
   "execution_count": 6,
   "id": "4bc8f6fc-d04c-41cd-b61c-e434f5fc12a0",
   "metadata": {},
   "outputs": [],
   "source": [
    "atual = atual.drop_duplicates(subset=[\"Area\"], keep=\"first\")"
   ]
  },
  {
   "cell_type": "markdown",
   "id": "51d32935-421f-4051-879c-ce790dcb24c0",
   "metadata": {},
   "source": [
    "## Kodaikanal"
   ]
  },
  {
   "cell_type": "code",
   "execution_count": 7,
   "id": "e857677b-7eb8-4303-9461-d76226f863fa",
   "metadata": {},
   "outputs": [],
   "source": [
    "# 1) Carregar o TXT (separador ; )\n",
    "kodaikanal = pd.read_csv(\"Kodaikanal_diario.txt\", sep=\";\")"
   ]
  },
  {
   "cell_type": "code",
   "execution_count": 8,
   "id": "c5de23f0-a859-49f7-94c6-0ec3a27502a4",
   "metadata": {},
   "outputs": [],
   "source": [
    "kodaikanal = (\n",
    "    kodaikanal\n",
    "    .assign(Date=pd.to_datetime(kodaikanal[\"t\"], errors=\"coerce\").dt.normalize())\n",
    "    .rename(columns={\"la\": \"Lat\", \"a\": \"Area\"})\n",
    "    .set_index(\"Date\")[[\"Lat\", \"Area\"]]\n",
    ")\n"
   ]
  },
  {
   "cell_type": "code",
   "execution_count": 9,
   "id": "0f1cc67e-6c37-4f33-bf34-c8fdb2493203",
   "metadata": {},
   "outputs": [
    {
     "data": {
      "text/html": [
       "<div>\n",
       "<style scoped>\n",
       "    .dataframe tbody tr th:only-of-type {\n",
       "        vertical-align: middle;\n",
       "    }\n",
       "\n",
       "    .dataframe tbody tr th {\n",
       "        vertical-align: top;\n",
       "    }\n",
       "\n",
       "    .dataframe thead th {\n",
       "        text-align: right;\n",
       "    }\n",
       "</style>\n",
       "<table border=\"1\" class=\"dataframe\">\n",
       "  <thead>\n",
       "    <tr style=\"text-align: right;\">\n",
       "      <th></th>\n",
       "      <th>Lat</th>\n",
       "      <th>Area</th>\n",
       "    </tr>\n",
       "    <tr>\n",
       "      <th>Date</th>\n",
       "      <th></th>\n",
       "      <th></th>\n",
       "    </tr>\n",
       "  </thead>\n",
       "  <tbody>\n",
       "    <tr>\n",
       "      <th>1998-01-03</th>\n",
       "      <td>18.6070</td>\n",
       "      <td>31.6116</td>\n",
       "    </tr>\n",
       "    <tr>\n",
       "      <th>1998-01-03</th>\n",
       "      <td>20.8607</td>\n",
       "      <td>39.5849</td>\n",
       "    </tr>\n",
       "    <tr>\n",
       "      <th>1998-01-03</th>\n",
       "      <td>22.4859</td>\n",
       "      <td>179.8200</td>\n",
       "    </tr>\n",
       "    <tr>\n",
       "      <th>1998-01-12</th>\n",
       "      <td>-22.9554</td>\n",
       "      <td>639.3650</td>\n",
       "    </tr>\n",
       "    <tr>\n",
       "      <th>1998-01-12</th>\n",
       "      <td>-19.9145</td>\n",
       "      <td>30.3547</td>\n",
       "    </tr>\n",
       "    <tr>\n",
       "      <th>...</th>\n",
       "      <td>...</td>\n",
       "      <td>...</td>\n",
       "    </tr>\n",
       "    <tr>\n",
       "      <th>2011-08-02</th>\n",
       "      <td>13.5134</td>\n",
       "      <td>38.2856</td>\n",
       "    </tr>\n",
       "    <tr>\n",
       "      <th>2011-08-02</th>\n",
       "      <td>15.4801</td>\n",
       "      <td>279.8190</td>\n",
       "    </tr>\n",
       "    <tr>\n",
       "      <th>2011-08-02</th>\n",
       "      <td>14.9512</td>\n",
       "      <td>15.5213</td>\n",
       "    </tr>\n",
       "    <tr>\n",
       "      <th>2011-08-02</th>\n",
       "      <td>17.5062</td>\n",
       "      <td>1090.6200</td>\n",
       "    </tr>\n",
       "    <tr>\n",
       "      <th>2011-08-02</th>\n",
       "      <td>17.9219</td>\n",
       "      <td>350.9200</td>\n",
       "    </tr>\n",
       "  </tbody>\n",
       "</table>\n",
       "<p>13771 rows × 2 columns</p>\n",
       "</div>"
      ],
      "text/plain": [
       "                Lat       Area\n",
       "Date                          \n",
       "1998-01-03  18.6070    31.6116\n",
       "1998-01-03  20.8607    39.5849\n",
       "1998-01-03  22.4859   179.8200\n",
       "1998-01-12 -22.9554   639.3650\n",
       "1998-01-12 -19.9145    30.3547\n",
       "...             ...        ...\n",
       "2011-08-02  13.5134    38.2856\n",
       "2011-08-02  15.4801   279.8190\n",
       "2011-08-02  14.9512    15.5213\n",
       "2011-08-02  17.5062  1090.6200\n",
       "2011-08-02  17.9219   350.9200\n",
       "\n",
       "[13771 rows x 2 columns]"
      ]
     },
     "execution_count": 9,
     "metadata": {},
     "output_type": "execute_result"
    }
   ],
   "source": [
    "kodaikanal"
   ]
  },
  {
   "cell_type": "markdown",
   "id": "93a4be3c-07f8-4283-b0aa-2a69e37a0d41",
   "metadata": {},
   "source": [
    "## Greenwich"
   ]
  },
  {
   "cell_type": "markdown",
   "id": "214de5c3-2479-499f-8bfb-b4d2e52aac8b",
   "metadata": {},
   "source": [
    "### Position"
   ]
  },
  {
   "cell_type": "code",
   "execution_count": 10,
   "id": "66b8d91d-3a3a-4243-9739-8314c484251f",
   "metadata": {},
   "outputs": [],
   "source": [
    "# Lê o CSV com colunas: ano, mes, dia, latitude, area\n",
    "g = pd.read_csv(\"GW_SS_Data.csv\", usecols=[\"ano\", \"mes\", \"dia\", \"latitude\", \"area\"])\n",
    "\n",
    "# Constrói a data de forma segura (zero‑padding e validação)\n",
    "g[\"Date\"] = pd.to_datetime(\n",
    "    dict(year=g[\"ano\"], month=g[\"mes\"], day=g[\"dia\"]),\n",
    "    errors=\"coerce\"               # datas inválidas viram NaT\n",
    ").dt.normalize()                  # zera horário\n",
    "\n",
    "# Remove linhas sem data/valores\n",
    "#g = g.dropna(subset=[\"Date\", \"latitude\", \"area\"])\n",
    "\n",
    "# Deixa só o que interessa, com índice de data\n",
    "greenwich = (\n",
    "    g.rename(columns={\"latitude\": \"Lat\", \"area\": \"Area\"})\n",
    "     .set_index(\"Date\")[[\"Lat\", \"Area\"]]\n",
    ")"
   ]
  },
  {
   "cell_type": "code",
   "execution_count": 11,
   "id": "b8050fee-564f-44d6-ad24-e0b7fc2437af",
   "metadata": {},
   "outputs": [
    {
     "data": {
      "text/html": [
       "<div>\n",
       "<style scoped>\n",
       "    .dataframe tbody tr th:only-of-type {\n",
       "        vertical-align: middle;\n",
       "    }\n",
       "\n",
       "    .dataframe tbody tr th {\n",
       "        vertical-align: top;\n",
       "    }\n",
       "\n",
       "    .dataframe thead th {\n",
       "        text-align: right;\n",
       "    }\n",
       "</style>\n",
       "<table border=\"1\" class=\"dataframe\">\n",
       "  <thead>\n",
       "    <tr style=\"text-align: right;\">\n",
       "      <th></th>\n",
       "      <th>Lat</th>\n",
       "      <th>Area</th>\n",
       "    </tr>\n",
       "    <tr>\n",
       "      <th>Date</th>\n",
       "      <th></th>\n",
       "      <th></th>\n",
       "    </tr>\n",
       "  </thead>\n",
       "  <tbody>\n",
       "    <tr>\n",
       "      <th>1998-01-01</th>\n",
       "      <td>-21</td>\n",
       "      <td>110</td>\n",
       "    </tr>\n",
       "    <tr>\n",
       "      <th>1998-01-01</th>\n",
       "      <td>22</td>\n",
       "      <td>210</td>\n",
       "    </tr>\n",
       "    <tr>\n",
       "      <th>1998-01-01</th>\n",
       "      <td>-29</td>\n",
       "      <td>70</td>\n",
       "    </tr>\n",
       "    <tr>\n",
       "      <th>1998-01-02</th>\n",
       "      <td>-22</td>\n",
       "      <td>60</td>\n",
       "    </tr>\n",
       "    <tr>\n",
       "      <th>1998-01-02</th>\n",
       "      <td>20</td>\n",
       "      <td>180</td>\n",
       "    </tr>\n",
       "    <tr>\n",
       "      <th>...</th>\n",
       "      <td>...</td>\n",
       "      <td>...</td>\n",
       "    </tr>\n",
       "    <tr>\n",
       "      <th>2011-12-31</th>\n",
       "      <td>11</td>\n",
       "      <td>250</td>\n",
       "    </tr>\n",
       "    <tr>\n",
       "      <th>2011-12-31</th>\n",
       "      <td>-18</td>\n",
       "      <td>70</td>\n",
       "    </tr>\n",
       "    <tr>\n",
       "      <th>2011-12-31</th>\n",
       "      <td>-24</td>\n",
       "      <td>60</td>\n",
       "    </tr>\n",
       "    <tr>\n",
       "      <th>2011-12-31</th>\n",
       "      <td>-23</td>\n",
       "      <td>400</td>\n",
       "    </tr>\n",
       "    <tr>\n",
       "      <th>2011-12-31</th>\n",
       "      <td>9</td>\n",
       "      <td>10</td>\n",
       "    </tr>\n",
       "  </tbody>\n",
       "</table>\n",
       "<p>24564 rows × 2 columns</p>\n",
       "</div>"
      ],
      "text/plain": [
       "            Lat  Area\n",
       "Date                 \n",
       "1998-01-01  -21   110\n",
       "1998-01-01   22   210\n",
       "1998-01-01  -29    70\n",
       "1998-01-02  -22    60\n",
       "1998-01-02   20   180\n",
       "...         ...   ...\n",
       "2011-12-31   11   250\n",
       "2011-12-31  -18    70\n",
       "2011-12-31  -24    60\n",
       "2011-12-31  -23   400\n",
       "2011-12-31    9    10\n",
       "\n",
       "[24564 rows x 2 columns]"
      ]
     },
     "execution_count": 11,
     "metadata": {},
     "output_type": "execute_result"
    }
   ],
   "source": [
    "greenwich"
   ]
  },
  {
   "cell_type": "markdown",
   "id": "4f52b2a8-f690-4080-875f-ae55e62e6479",
   "metadata": {},
   "source": [
    "### Area"
   ]
  },
  {
   "cell_type": "code",
   "execution_count": 12,
   "id": "5da459df-b31d-4f00-a0cb-13a11c8f6fc7",
   "metadata": {},
   "outputs": [
    {
     "name": "stderr",
     "output_type": "stream",
     "text": [
      "/tmp/ipykernel_3711/254662432.py:1: FutureWarning: The 'delim_whitespace' keyword in pd.read_csv is deprecated and will be removed in a future version. Use ``sep='\\s+'`` instead\n",
      "  ga = pd.read_csv(\"daily_area_total.txt\", delim_whitespace=True,\n"
     ]
    }
   ],
   "source": [
    "ga = pd.read_csv(\"daily_area_total.txt\", delim_whitespace=True,\n",
    "                 usecols=[\"YYYY\", \"MM\", \"DD\", \"North\", \"South\", \"Total\"])\n",
    "\n",
    "# Filtro de período (como no seu código)\n",
    "ga = ga[ga[\"YYYY\"] > 1997]\n",
    "\n",
    "# Data segura\n",
    "ga[\"Date\"] = pd.to_datetime(\n",
    "    dict(year=ga[\"YYYY\"], month=ga[\"MM\"], day=ga[\"DD\"]),\n",
    "    errors=\"coerce\"\n",
    ").dt.normalize()\n",
    "\n",
    "#ga = ga.dropna(subset=[\"Date\"])\n",
    "\n",
    "green_area = (\n",
    "    ga.rename(columns={\"North\": \"HN\", \"South\": \"HS\"})\n",
    "      .set_index(\"Date\")[[\"HN\", \"HS\", \"Total\"]]\n",
    ")\n",
    "\n",
    "# Exemplo de uso:\n",
    "# green_area_daily[\"Total\"].plot()\n",
    "# greenwich_individuals[\"Area\"].resample(\"D\").sum().plot()  # comparar com Total, se quiser\n"
   ]
  },
  {
   "cell_type": "code",
   "execution_count": 13,
   "id": "25559616-1816-47e9-aa07-52a48f41a5d8",
   "metadata": {},
   "outputs": [
    {
     "data": {
      "text/html": [
       "<div>\n",
       "<style scoped>\n",
       "    .dataframe tbody tr th:only-of-type {\n",
       "        vertical-align: middle;\n",
       "    }\n",
       "\n",
       "    .dataframe tbody tr th {\n",
       "        vertical-align: top;\n",
       "    }\n",
       "\n",
       "    .dataframe thead th {\n",
       "        text-align: right;\n",
       "    }\n",
       "</style>\n",
       "<table border=\"1\" class=\"dataframe\">\n",
       "  <thead>\n",
       "    <tr style=\"text-align: right;\">\n",
       "      <th></th>\n",
       "      <th>HN</th>\n",
       "      <th>HS</th>\n",
       "      <th>Total</th>\n",
       "    </tr>\n",
       "    <tr>\n",
       "      <th>Date</th>\n",
       "      <th></th>\n",
       "      <th></th>\n",
       "      <th></th>\n",
       "    </tr>\n",
       "  </thead>\n",
       "  <tbody>\n",
       "    <tr>\n",
       "      <th>1998-01-01</th>\n",
       "      <td>294.0</td>\n",
       "      <td>252.0</td>\n",
       "      <td>546.0</td>\n",
       "    </tr>\n",
       "    <tr>\n",
       "      <th>1998-01-02</th>\n",
       "      <td>252.0</td>\n",
       "      <td>154.0</td>\n",
       "      <td>406.0</td>\n",
       "    </tr>\n",
       "    <tr>\n",
       "      <th>1998-01-03</th>\n",
       "      <td>210.0</td>\n",
       "      <td>14.0</td>\n",
       "      <td>224.0</td>\n",
       "    </tr>\n",
       "    <tr>\n",
       "      <th>1998-01-04</th>\n",
       "      <td>154.0</td>\n",
       "      <td>14.0</td>\n",
       "      <td>168.0</td>\n",
       "    </tr>\n",
       "    <tr>\n",
       "      <th>1998-01-05</th>\n",
       "      <td>70.0</td>\n",
       "      <td>0.0</td>\n",
       "      <td>70.0</td>\n",
       "    </tr>\n",
       "    <tr>\n",
       "      <th>...</th>\n",
       "      <td>...</td>\n",
       "      <td>...</td>\n",
       "      <td>...</td>\n",
       "    </tr>\n",
       "    <tr>\n",
       "      <th>2016-10-27</th>\n",
       "      <td>0.0</td>\n",
       "      <td>0.0</td>\n",
       "      <td>0.0</td>\n",
       "    </tr>\n",
       "    <tr>\n",
       "      <th>2016-10-28</th>\n",
       "      <td>0.0</td>\n",
       "      <td>0.0</td>\n",
       "      <td>0.0</td>\n",
       "    </tr>\n",
       "    <tr>\n",
       "      <th>2016-10-29</th>\n",
       "      <td>0.0</td>\n",
       "      <td>0.0</td>\n",
       "      <td>0.0</td>\n",
       "    </tr>\n",
       "    <tr>\n",
       "      <th>2016-10-30</th>\n",
       "      <td>0.0</td>\n",
       "      <td>0.0</td>\n",
       "      <td>0.0</td>\n",
       "    </tr>\n",
       "    <tr>\n",
       "      <th>2016-10-31</th>\n",
       "      <td>0.0</td>\n",
       "      <td>0.0</td>\n",
       "      <td>0.0</td>\n",
       "    </tr>\n",
       "  </tbody>\n",
       "</table>\n",
       "<p>6879 rows × 3 columns</p>\n",
       "</div>"
      ],
      "text/plain": [
       "               HN     HS  Total\n",
       "Date                           \n",
       "1998-01-01  294.0  252.0  546.0\n",
       "1998-01-02  252.0  154.0  406.0\n",
       "1998-01-03  210.0   14.0  224.0\n",
       "1998-01-04  154.0   14.0  168.0\n",
       "1998-01-05   70.0    0.0   70.0\n",
       "...           ...    ...    ...\n",
       "2016-10-27    0.0    0.0    0.0\n",
       "2016-10-28    0.0    0.0    0.0\n",
       "2016-10-29    0.0    0.0    0.0\n",
       "2016-10-30    0.0    0.0    0.0\n",
       "2016-10-31    0.0    0.0    0.0\n",
       "\n",
       "[6879 rows x 3 columns]"
      ]
     },
     "execution_count": 13,
     "metadata": {},
     "output_type": "execute_result"
    }
   ],
   "source": [
    "green_area"
   ]
  },
  {
   "cell_type": "markdown",
   "id": "e059c43f-5d96-45da-b82b-8b67c056bb69",
   "metadata": {},
   "source": [
    "# 2° Analyzing the Butterfly Diagram"
   ]
  },
  {
   "cell_type": "code",
   "execution_count": 14,
   "id": "a74564e2-a68c-4d8c-a2e2-7518440c6ac9",
   "metadata": {},
   "outputs": [],
   "source": [
    "Amarelo = atual[atual['Area'] <= 100]\n",
    "Verde = atual[atual['Area']<500]; Verde = Verde[Verde['Area']>100]\n",
    "Mangeta = atual[atual['Area']<1000]; Mangeta = Mangeta[Mangeta['Area']>500]\n",
    "Vermelho = atual[atual['Area']>1000]"
   ]
  },
  {
   "cell_type": "code",
   "execution_count": 15,
   "id": "2db1d7f8-2d37-4bec-a0ee-18ae9c3438c2",
   "metadata": {},
   "outputs": [
    {
     "data": {
      "text/html": [
       "<div>\n",
       "<style scoped>\n",
       "    .dataframe tbody tr th:only-of-type {\n",
       "        vertical-align: middle;\n",
       "    }\n",
       "\n",
       "    .dataframe tbody tr th {\n",
       "        vertical-align: top;\n",
       "    }\n",
       "\n",
       "    .dataframe thead th {\n",
       "        text-align: right;\n",
       "    }\n",
       "</style>\n",
       "<table border=\"1\" class=\"dataframe\">\n",
       "  <thead>\n",
       "    <tr style=\"text-align: right;\">\n",
       "      <th></th>\n",
       "      <th>Lat</th>\n",
       "      <th>Lon</th>\n",
       "      <th>Area</th>\n",
       "    </tr>\n",
       "    <tr>\n",
       "      <th>Date</th>\n",
       "      <th></th>\n",
       "      <th></th>\n",
       "      <th></th>\n",
       "    </tr>\n",
       "  </thead>\n",
       "  <tbody>\n",
       "    <tr>\n",
       "      <th>1998-03-16</th>\n",
       "      <td>-19.480879</td>\n",
       "      <td>19.953080</td>\n",
       "      <td>1219.505017</td>\n",
       "    </tr>\n",
       "    <tr>\n",
       "      <th>1998-05-05</th>\n",
       "      <td>-12.995118</td>\n",
       "      <td>67.600753</td>\n",
       "      <td>1039.152778</td>\n",
       "    </tr>\n",
       "    <tr>\n",
       "      <th>1998-05-07</th>\n",
       "      <td>31.516669</td>\n",
       "      <td>69.770975</td>\n",
       "      <td>1296.871013</td>\n",
       "    </tr>\n",
       "    <tr>\n",
       "      <th>1998-11-09</th>\n",
       "      <td>20.664763</td>\n",
       "      <td>83.013857</td>\n",
       "      <td>1893.755971</td>\n",
       "    </tr>\n",
       "    <tr>\n",
       "      <th>1999-02-20</th>\n",
       "      <td>-18.496782</td>\n",
       "      <td>84.730139</td>\n",
       "      <td>1571.233027</td>\n",
       "    </tr>\n",
       "    <tr>\n",
       "      <th>...</th>\n",
       "      <td>...</td>\n",
       "      <td>...</td>\n",
       "      <td>...</td>\n",
       "    </tr>\n",
       "    <tr>\n",
       "      <th>2025-05-05</th>\n",
       "      <td>8.255513</td>\n",
       "      <td>14.314573</td>\n",
       "      <td>1953.734438</td>\n",
       "    </tr>\n",
       "    <tr>\n",
       "      <th>2025-05-06</th>\n",
       "      <td>8.043146</td>\n",
       "      <td>27.793234</td>\n",
       "      <td>1782.662394</td>\n",
       "    </tr>\n",
       "    <tr>\n",
       "      <th>2025-05-07</th>\n",
       "      <td>7.364199</td>\n",
       "      <td>42.230562</td>\n",
       "      <td>1442.249307</td>\n",
       "    </tr>\n",
       "    <tr>\n",
       "      <th>2025-05-08</th>\n",
       "      <td>7.630648</td>\n",
       "      <td>55.403364</td>\n",
       "      <td>1528.703119</td>\n",
       "    </tr>\n",
       "    <tr>\n",
       "      <th>2025-05-09</th>\n",
       "      <td>7.888596</td>\n",
       "      <td>70.041411</td>\n",
       "      <td>1440.094364</td>\n",
       "    </tr>\n",
       "  </tbody>\n",
       "</table>\n",
       "<p>506 rows × 3 columns</p>\n",
       "</div>"
      ],
      "text/plain": [
       "                  Lat        Lon         Area\n",
       "Date                                         \n",
       "1998-03-16 -19.480879  19.953080  1219.505017\n",
       "1998-05-05 -12.995118  67.600753  1039.152778\n",
       "1998-05-07  31.516669  69.770975  1296.871013\n",
       "1998-11-09  20.664763  83.013857  1893.755971\n",
       "1999-02-20 -18.496782  84.730139  1571.233027\n",
       "...               ...        ...          ...\n",
       "2025-05-05   8.255513  14.314573  1953.734438\n",
       "2025-05-06   8.043146  27.793234  1782.662394\n",
       "2025-05-07   7.364199  42.230562  1442.249307\n",
       "2025-05-08   7.630648  55.403364  1528.703119\n",
       "2025-05-09   7.888596  70.041411  1440.094364\n",
       "\n",
       "[506 rows x 3 columns]"
      ]
     },
     "execution_count": 15,
     "metadata": {},
     "output_type": "execute_result"
    }
   ],
   "source": [
    "Vermelho"
   ]
  },
  {
   "cell_type": "code",
   "execution_count": 16,
   "id": "45933857-95a5-4fe7-ac44-20747e429e26",
   "metadata": {},
   "outputs": [],
   "source": [
    "#%matplotlib qt"
   ]
  },
  {
   "cell_type": "code",
   "execution_count": 36,
   "id": "e9175c75-5bc1-4903-b009-2c09c437d8ea",
   "metadata": {},
   "outputs": [
    {
     "data": {
      "text/plain": [
       "<matplotlib.legend.Legend at 0x7d6529e925d0>"
      ]
     },
     "execution_count": 36,
     "metadata": {},
     "output_type": "execute_result"
    }
   ],
   "source": [
    "plt.figure(figsize=(15, 5))\n",
    "\n",
    "\n",
    "#plt.rcParams['font.family'] = 'Times New Roman'\n",
    "\n",
    "plt.rcParams['xtick.labelsize'] = 15\n",
    "plt.rcParams['ytick.labelsize'] = 15\n",
    "\n",
    "plt.plot(Amarelo['Lat'], 'ko',  markerfacecolor='yellow', label=r'Area $<$ 100 $\\mu$Hem')\n",
    "plt.plot(Verde['Lat'], 'ko',  markerfacecolor='g' , label=r'100 $\\mu$Hem $<$ Area $<$ 500 $\\mu$Hem')\n",
    "plt.plot(Mangeta['Lat'], 'ko',  markerfacecolor='m', label=r'500 $\\mu$Hem $<$ Area $<$ 1000 $\\mu$Hem')\n",
    "plt.plot(Vermelho['Lat'], 'ko',  markerfacecolor='r', label=r'Area $>$ 1000 $\\mu$Hem')\n",
    "\n",
    "plt.title('Sunspot location', fontsize=20)\n",
    "plt.xlabel('Time (Year)', fontsize=15)\n",
    "plt.ylabel('Latitude (Degrees)', fontsize=15)\n",
    "plt.ylim(-90, 90)\n",
    "plt.grid()\n",
    "\n",
    "plt.legend(loc=\"upper right\", mode = \"expand\", ncol = 4, prop={'size': 13})\n",
    "#plt.savefig('Fig_7.eps', dpi=600, format='eps',  bbox_inches='tight')"
   ]
  },
  {
   "cell_type": "code",
   "execution_count": null,
   "id": "46cf0313-bd94-4aa5-bd9e-5fa47f83c748",
   "metadata": {},
   "outputs": [],
   "source": []
  },
  {
   "cell_type": "code",
   "execution_count": 18,
   "id": "4902678d-f239-43ee-a14f-0f2a7e836021",
   "metadata": {},
   "outputs": [
    {
     "ename": "NameError",
     "evalue": "name 'Dia' is not defined",
     "output_type": "error",
     "traceback": [
      "\u001b[31m---------------------------------------------------------------------------\u001b[39m",
      "\u001b[31mNameError\u001b[39m                                 Traceback (most recent call last)",
      "\u001b[36mCell\u001b[39m\u001b[36m \u001b[39m\u001b[32mIn[18]\u001b[39m\u001b[32m, line 1\u001b[39m\n\u001b[32m----> \u001b[39m\u001b[32m1\u001b[39m ts_2 = Time(\u001b[43mDia\u001b[49m)\n\u001b[32m      3\u001b[39m x = ts_2\n\u001b[32m      4\u001b[39m y = atual.Lat\n",
      "\u001b[31mNameError\u001b[39m: name 'Dia' is not defined"
     ]
    }
   ],
   "source": [
    "ts_2 = Time(Dia)\n",
    "\n",
    "x = ts_2\n",
    "y = atual.Lat\n",
    "\n",
    "fig, ax = plt.subplots(figsize=(10, 6))\n",
    "\n",
    "\n",
    "#plt.rcParams['font.family'] = 'Times New Roman'\n",
    "\n",
    "ax.plot(Amarelo['Lat'], 'ko',  markerfacecolor='yellow')\n",
    "ax.plot(Verde['Lat'], 'ko',  markerfacecolor='g' )\n",
    "ax.plot(Mangeta['Lat'], 'ko',  markerfacecolor='m')\n",
    "ax.plot(Vermelho['Lat'], 'ko',  markerfacecolor='r')\n",
    "\n",
    "    \n",
    "ax.set_ylabel('Latitude (Degrees)', fontsize=10)\n",
    "ax.set_xlabel('Time (Year)', fontsize=10)\n",
    "ax.set_ylim(-50, 50)\n",
    "ax.set_xlim(10300, 10700)\n",
    "ax.set_title('Cycle 23', fontsize=13)\n",
    "ax.grid()\n",
    "\n",
    "\n",
    "axins = ax.inset_axes([-0.57, -0.57, 0.5, 0.5])\n",
    "\n",
    "axins.plot(Amarelo['Lat'], 'ko',  markerfacecolor='yellow')\n",
    "axins.plot(Verde['Lat'], 'ko',  markerfacecolor='g' )\n",
    "axins.plot(Mangeta['Lat'], 'ko',  markerfacecolor='m')\n",
    "axins.plot(Vermelho['Lat'], 'ko',  markerfacecolor='r')\n",
    "\n",
    "\n",
    "axins.set_title('Cycle 23', fontsize=13)\n",
    "axins.set_ylim(-50, 50)\n",
    "axins.set_xlim(10000, 14200)\n",
    "axins.set_xticks([])\n",
    "axins.set_yticks([])\n",
    "\n",
    "\n",
    "axins.indicate_inset_zoom(ax, facecolor=\"gray\", )\n",
    "\n",
    "plt.show()\n",
    "#fig.savefig('Fig_8.eps', dpi=600, format='eps', bbox_inches='tight')"
   ]
  },
  {
   "cell_type": "markdown",
   "id": "3d519b90-a31d-4c8f-80af-cc33a01fdd47",
   "metadata": {},
   "source": [
    "# 3° Comparing Solar Cycle 23 with data from Greenwich and Kodaikanal"
   ]
  },
  {
   "cell_type": "code",
   "execution_count": 19,
   "id": "76fe5fbd-49a3-4e12-bf78-59125edc7a48",
   "metadata": {},
   "outputs": [],
   "source": [
    "atual_limitado = atual.loc[:'2011-08-02']\n",
    "Amarelo_atual = atual_limitado[atual_limitado['Area'] <= 100]\n",
    "Verde_atual = atual_limitado[atual_limitado['Area']<500]; Verde_atual = Verde_atual[Verde_atual['Area']>100]\n",
    "Mangeta_atual = atual_limitado[atual_limitado['Area']<1000]; Mangeta_atual = Mangeta_atual[Mangeta_atual['Area']>500]\n",
    "Vermelho_atual = atual_limitado[atual_limitado['Area']>1000]"
   ]
  },
  {
   "cell_type": "code",
   "execution_count": 20,
   "id": "dcef7b22-9b8c-4ade-a43d-642739d67981",
   "metadata": {},
   "outputs": [],
   "source": [
    "Amarelo_kod = kodaikanal[kodaikanal['Area'] <= 100]\n",
    "Verde_kod = kodaikanal[kodaikanal['Area']<500]; Verde_kod = Verde_kod[Verde_kod['Area']>100]\n",
    "Mangeta_kod = kodaikanal[kodaikanal['Area']<1000]; Mangeta_kod = Mangeta_kod[Mangeta_kod['Area']>500]\n",
    "Vermelho_kod = kodaikanal[kodaikanal['Area']>1000]"
   ]
  },
  {
   "cell_type": "code",
   "execution_count": 21,
   "id": "713e5968-a00d-4dde-87af-47fc9e69aa66",
   "metadata": {},
   "outputs": [],
   "source": [
    "Amarelo_green = greenwich[greenwich['Area'] <= 100]\n",
    "Verde_green = greenwich[greenwich['Area']<500]; Verde_green = Verde_green[Verde_green['Area']>100]\n",
    "Mangeta_green = greenwich[greenwich['Area']<1000]; Mangeta_green = Mangeta_green[Mangeta_green['Area']>500]\n",
    "Vermelho_green = greenwich[greenwich['Area']>1000]"
   ]
  },
  {
   "cell_type": "code",
   "execution_count": 22,
   "id": "57c3d666-eb0b-4517-9caf-434071f8a9a4",
   "metadata": {},
   "outputs": [
    {
     "data": {
      "image/png": "[encoded data removed]",
      "text/plain": [
       "<Figure size 1800x500 with 3 Axes>"
      ]
     },
     "metadata": {},
     "output_type": "display_data"
    }
   ],
   "source": [
    "fig, ax = plt.subplots(1, 3, figsize=(18, 5))\n",
    "\n",
    "#plt.rcParams['font.family'] = 'Times New Roman'\n",
    "\n",
    "plt.rcParams['xtick.labelsize'] = 10\n",
    "plt.rcParams['ytick.labelsize'] = 10\n",
    "\n",
    "ax[0].plot(Amarelo_atual['Lat'], 'ko',  markerfacecolor='yellow')\n",
    "ax[0].plot(Verde_atual['Lat'], 'ko',  markerfacecolor='g' )\n",
    "ax[0].plot(Mangeta_atual['Lat'], 'ko',  markerfacecolor='m')\n",
    "ax[0].plot(Vermelho_atual['Lat'], 'ko',  markerfacecolor='r')\n",
    "\n",
    "ax[0].set_title('Current work', fontsize=15)\n",
    "ax[0].set_xlabel('Time (year)', fontsize=15)\n",
    "ax[0].set_ylabel('Latitude (degrees)', fontsize=15)\n",
    "ax[0].set_ylim(-60, 60)\n",
    "ax[0].grid()\n",
    "\n",
    "ax[1].plot(Amarelo_kod['Lat'], 'ko',  markerfacecolor='yellow')\n",
    "ax[1].plot(Verde_kod['Lat'], 'ko',  markerfacecolor='g' )\n",
    "ax[1].plot(Mangeta_kod['Lat'], 'ko',  markerfacecolor='m')\n",
    "ax[1].plot(Vermelho_kod['Lat'], 'ko',  markerfacecolor='r')\n",
    "\n",
    "ax[1].set_title('Kodaikanal work', fontsize=15)\n",
    "ax[1].set_xlabel('Time (year)', fontsize=15)\n",
    "ax[1].set_ylabel('Latitude (degrees)', fontsize=15)\n",
    "ax[1].set_ylim(-60, 60)\n",
    "ax[1].grid()\n",
    "\n",
    "ax[2].plot(Amarelo_green['Lat'], 'ko',  markerfacecolor='yellow')\n",
    "ax[2].plot(Verde_green['Lat'], 'ko',  markerfacecolor='g' )\n",
    "ax[2].plot(Mangeta_green['Lat'], 'ko',  markerfacecolor='m')\n",
    "ax[2].plot(Vermelho_green['Lat'], 'ko',  markerfacecolor='r')\n",
    "\n",
    "ax[2].set_title('Greenwich work', fontsize=15)\n",
    "ax[2].set_xlabel('Time (year)', fontsize=15)\n",
    "ax[2].set_ylabel('Latitude (degrees)', fontsize=15)\n",
    "ax[2].set_ylim(-60, 60)\n",
    "ax[2].grid()\n",
    "\n",
    "#fig.savefig('Fig_9.eps', dpi=600, format='eps', bbox_inches='tight')"
   ]
  },
  {
   "cell_type": "markdown",
   "id": "f2de571f-e290-49ab-bb5e-c3c356e88556",
   "metadata": {},
   "source": [
    "# 4th Analysis of Sunspot Areas in Comparison to Greenwich and Kodaikanal"
   ]
  },
  {
   "cell_type": "markdown",
   "id": "5b7ce239-713f-4e91-9b8c-d96359b5048c",
   "metadata": {},
   "source": [
    "## Daily Areas"
   ]
  },
  {
   "cell_type": "markdown",
   "id": "37e91354-a225-4577-821f-8397dc5bd99f",
   "metadata": {},
   "source": [
    "### Current work"
   ]
  },
  {
   "cell_type": "code",
   "execution_count": 23,
   "id": "6b79f1f0-7ef2-4c31-8919-b62202868a9c",
   "metadata": {},
   "outputs": [],
   "source": [
    "hn = atual[atual['Lat']>0]\n",
    "hs = atual[atual['Lat']<0]"
   ]
  },
  {
   "cell_type": "code",
   "execution_count": 24,
   "id": "42b6c785-d783-4929-ab10-7100291d23ab",
   "metadata": {},
   "outputs": [],
   "source": [
    "atd_hn = hn.resample('D').sum()\n",
    "#atd_hn = atd_hn.dropna()\n",
    "atd_hs = hs.resample('D').sum()\n",
    "#atd_hs = atd_hs.dropna()\n",
    "atd = atual.resample('D').sum()\n",
    "#atd = atd.dropna()"
   ]
  },
  {
   "cell_type": "markdown",
   "id": "c42cefc2-c311-4d8c-8334-160daa01f450",
   "metadata": {},
   "source": [
    "### Kodaikanal"
   ]
  },
  {
   "cell_type": "code",
   "execution_count": 25,
   "id": "c34d7b8a-446d-4347-9d29-5dcf9f6f931b",
   "metadata": {},
   "outputs": [],
   "source": [
    "kod_hn = kodaikanal[kodaikanal['Lat']>0]\n",
    "kod_hs = kodaikanal[kodaikanal['Lat']<0]"
   ]
  },
  {
   "cell_type": "code",
   "execution_count": 26,
   "id": "55f19090-0cff-4575-a846-fec917843b77",
   "metadata": {},
   "outputs": [],
   "source": [
    "kod_atd_hn = kod_hn.resample('D').sum() \n",
    "#kod_atd_hn = kod_atd_hn.dropna()\n",
    "kod_atd_hs = kod_hs.resample('D').sum()\n",
    "#kod_atd_hs = kod_atd_hs.dropna()\n",
    "kod_atd = kodaikanal.resample('D').sum()\n",
    "#kod_atd = kod_atd.dropna()"
   ]
  },
  {
   "cell_type": "markdown",
   "id": "fa81f778-fe6e-4d8b-932f-e56152f88e4b",
   "metadata": {},
   "source": [
    "### Greenwich"
   ]
  },
  {
   "cell_type": "code",
   "execution_count": 27,
   "id": "aff3b696-aa49-41f9-b68a-604c3126db3a",
   "metadata": {},
   "outputs": [],
   "source": [
    "green_atd_hn = green_area['HN']\n",
    "#green_atd_hn = green_atd_hn.dropna() \n",
    "green_atd_hs = green_area['HS']\n",
    "#green_atd_hs = green_atd_hs.dropna()\n",
    "green_atd = pd.DataFrame(green_area['Total'])\n",
    "#green_atd = green_atd.dropna()"
   ]
  },
  {
   "cell_type": "markdown",
   "id": "ac016464-f707-4c54-808e-afbf5cc6aa88",
   "metadata": {},
   "source": [
    "## Monthly Average Areas"
   ]
  },
  {
   "cell_type": "markdown",
   "id": "0b87014d-397e-4c2d-9ffc-9f0ccede9e61",
   "metadata": {},
   "source": [
    "### Current work"
   ]
  },
  {
   "cell_type": "code",
   "execution_count": 28,
   "id": "a6117536-0712-486e-b124-758b3bbea546",
   "metadata": {},
   "outputs": [
    {
     "name": "stderr",
     "output_type": "stream",
     "text": [
      "/tmp/ipykernel_3711/1743901042.py:1: FutureWarning: 'M' is deprecated and will be removed in a future version, please use 'ME' instead.\n",
      "  atm_hn = atd_hn.resample('M').mean()\n",
      "/tmp/ipykernel_3711/1743901042.py:2: FutureWarning: 'M' is deprecated and will be removed in a future version, please use 'ME' instead.\n",
      "  atm_hs = atd_hs.resample('M').mean()\n",
      "/tmp/ipykernel_3711/1743901042.py:3: FutureWarning: 'M' is deprecated and will be removed in a future version, please use 'ME' instead.\n",
      "  atm = atd.resample('M').mean()\n"
     ]
    }
   ],
   "source": [
    "atm_hn = atd_hn.resample('M').mean()\n",
    "atm_hs = atd_hs.resample('M').mean()\n",
    "atm = atd.resample('M').mean()"
   ]
  },
  {
   "cell_type": "markdown",
   "id": "8e5f39c5-e950-4200-bb8a-c90e51eab51a",
   "metadata": {},
   "source": [
    "### Kodaikanal"
   ]
  },
  {
   "cell_type": "code",
   "execution_count": 29,
   "id": "69ff74c3-98e0-4714-a54e-74ac5b52e590",
   "metadata": {},
   "outputs": [
    {
     "name": "stderr",
     "output_type": "stream",
     "text": [
      "/tmp/ipykernel_3711/3063359211.py:1: FutureWarning: 'M' is deprecated and will be removed in a future version, please use 'ME' instead.\n",
      "  kod_atm_hn = kod_atd_hn.resample('M').mean()\n",
      "/tmp/ipykernel_3711/3063359211.py:2: FutureWarning: 'M' is deprecated and will be removed in a future version, please use 'ME' instead.\n",
      "  kod_atm_hs = kod_atd_hs.resample('M').mean()\n",
      "/tmp/ipykernel_3711/3063359211.py:3: FutureWarning: 'M' is deprecated and will be removed in a future version, please use 'ME' instead.\n",
      "  kod_atm = kod_atd.resample('M').mean()\n"
     ]
    }
   ],
   "source": [
    "kod_atm_hn = kod_atd_hn.resample('M').mean()\n",
    "kod_atm_hs = kod_atd_hs.resample('M').mean()\n",
    "kod_atm = kod_atd.resample('M').mean()"
   ]
  },
  {
   "cell_type": "markdown",
   "id": "92fc420f-c596-492d-bcfc-1afa4263ac39",
   "metadata": {},
   "source": [
    "### Greenwich"
   ]
  },
  {
   "cell_type": "code",
   "execution_count": 30,
   "id": "161e6234-518d-40f9-a330-f0bbe0316294",
   "metadata": {},
   "outputs": [
    {
     "name": "stderr",
     "output_type": "stream",
     "text": [
      "/tmp/ipykernel_3711/2148701872.py:10: FutureWarning: 'M' is deprecated and will be removed in a future version, please use 'ME' instead.\n",
      "  green_atm_hn = green_atd_hn.resample('M').mean()\n",
      "/tmp/ipykernel_3711/2148701872.py:11: FutureWarning: 'M' is deprecated and will be removed in a future version, please use 'ME' instead.\n",
      "  green_atm_hs = green_atd_hs.resample('M').mean()\n",
      "/tmp/ipykernel_3711/2148701872.py:12: FutureWarning: 'M' is deprecated and will be removed in a future version, please use 'ME' instead.\n",
      "  green_atm = green_atd.resample('M').mean()\n"
     ]
    }
   ],
   "source": [
    "green_atd_hn = green_area['HN']\n",
    "#green_atd_hn = green_atd_hn.dropna() \n",
    "green_atd_hs = green_area['HS']\n",
    "#green_atd_hs = green_atd_hs.dropna()\n",
    "green_atd = pd.DataFrame(green_area['Total'])\n",
    "#green_atd = green_atd.dropna()\n",
    "\n",
    "# ---------------------- # ------------------------\n",
    "\n",
    "green_atm_hn = green_atd_hn.resample('M').mean()\n",
    "green_atm_hs = green_atd_hs.resample('M').mean()\n",
    "green_atm = green_atd.resample('M').mean()"
   ]
  },
  {
   "cell_type": "markdown",
   "id": "c1660c51-a517-4b06-ad67-7b65de6eebb0",
   "metadata": {},
   "source": [
    "## Average Annual Areas"
   ]
  },
  {
   "cell_type": "markdown",
   "id": "9cd04fd6-b7fa-438d-b2f0-8b1df3d97c68",
   "metadata": {},
   "source": [
    "### Current Work"
   ]
  },
  {
   "cell_type": "code",
   "execution_count": 31,
   "id": "86cbdc53-bdb0-4c51-b20f-ba1155382701",
   "metadata": {},
   "outputs": [
    {
     "name": "stderr",
     "output_type": "stream",
     "text": [
      "/tmp/ipykernel_3711/1667400873.py:1: FutureWarning: 'Y' is deprecated and will be removed in a future version, please use 'YE' instead.\n",
      "  ata_hn = atm_hn.resample('Y').mean()\n",
      "/tmp/ipykernel_3711/1667400873.py:2: FutureWarning: 'Y' is deprecated and will be removed in a future version, please use 'YE' instead.\n",
      "  ata_hs = atm_hs.resample('Y').mean()\n",
      "/tmp/ipykernel_3711/1667400873.py:3: FutureWarning: 'Y' is deprecated and will be removed in a future version, please use 'YE' instead.\n",
      "  ata = atm.resample('Y').mean()\n"
     ]
    }
   ],
   "source": [
    "ata_hn = atm_hn.resample('Y').mean()\n",
    "ata_hs = atm_hs.resample('Y').mean()\n",
    "ata = atm.resample('Y').mean()"
   ]
  },
  {
   "cell_type": "markdown",
   "id": "b6b54aff-3fd2-41fd-b8ad-524cc2295d49",
   "metadata": {},
   "source": [
    "### Kodaikanal"
   ]
  },
  {
   "cell_type": "code",
   "execution_count": 32,
   "id": "51453fd9-db11-4ebf-a8b2-345da8574796",
   "metadata": {},
   "outputs": [
    {
     "name": "stderr",
     "output_type": "stream",
     "text": [
      "/tmp/ipykernel_3711/2518744624.py:1: FutureWarning: 'Y' is deprecated and will be removed in a future version, please use 'YE' instead.\n",
      "  kod_ata_hn = kod_atm_hn.resample('Y').mean()\n",
      "/tmp/ipykernel_3711/2518744624.py:2: FutureWarning: 'Y' is deprecated and will be removed in a future version, please use 'YE' instead.\n",
      "  kod_ata_hs = kod_atm_hs.resample('Y').mean()\n",
      "/tmp/ipykernel_3711/2518744624.py:3: FutureWarning: 'Y' is deprecated and will be removed in a future version, please use 'YE' instead.\n",
      "  kod_ata = kod_atm.resample('Y').mean()\n"
     ]
    }
   ],
   "source": [
    "kod_ata_hn = kod_atm_hn.resample('Y').mean()\n",
    "kod_ata_hs = kod_atm_hs.resample('Y').mean()\n",
    "kod_ata = kod_atm.resample('Y').mean()"
   ]
  },
  {
   "cell_type": "markdown",
   "id": "4c96e817-95da-407f-a5fb-c690099d6d10",
   "metadata": {},
   "source": [
    "### Greenwich"
   ]
  },
  {
   "cell_type": "code",
   "execution_count": 33,
   "id": "2ad9a01e-5ba6-46ae-a08b-3c96761b01f3",
   "metadata": {},
   "outputs": [
    {
     "name": "stderr",
     "output_type": "stream",
     "text": [
      "/tmp/ipykernel_3711/2554291094.py:1: FutureWarning: 'M' is deprecated and will be removed in a future version, please use 'ME' instead.\n",
      "  green_atm_hn = green_atd_hn.resample('M').mean()\n",
      "/tmp/ipykernel_3711/2554291094.py:2: FutureWarning: 'M' is deprecated and will be removed in a future version, please use 'ME' instead.\n",
      "  green_atm_hs = green_atd_hs.resample('M').mean()\n",
      "/tmp/ipykernel_3711/2554291094.py:3: FutureWarning: 'M' is deprecated and will be removed in a future version, please use 'ME' instead.\n",
      "  green_atm = green_atd.resample('M').mean()\n",
      "/tmp/ipykernel_3711/2554291094.py:7: FutureWarning: 'Y' is deprecated and will be removed in a future version, please use 'YE' instead.\n",
      "  green_ata_hn = green_atm_hn.resample('Y').mean()\n",
      "/tmp/ipykernel_3711/2554291094.py:8: FutureWarning: 'Y' is deprecated and will be removed in a future version, please use 'YE' instead.\n",
      "  green_ata_hs = green_atm_hs.resample('Y').mean()\n",
      "/tmp/ipykernel_3711/2554291094.py:9: FutureWarning: 'Y' is deprecated and will be removed in a future version, please use 'YE' instead.\n",
      "  green_ata = green_atm.resample('Y').mean()\n"
     ]
    }
   ],
   "source": [
    "green_atm_hn = green_atd_hn.resample('M').mean()\n",
    "green_atm_hs = green_atd_hs.resample('M').mean()\n",
    "green_atm = green_atd.resample('M').mean()\n",
    "\n",
    "# ---------------------- # ------------------------\n",
    "\n",
    "green_ata_hn = green_atm_hn.resample('Y').mean()\n",
    "green_ata_hs = green_atm_hs.resample('Y').mean()\n",
    "green_ata = green_atm.resample('Y').mean()"
   ]
  },
  {
   "cell_type": "markdown",
   "id": "258d15cb-94a4-4c9e-8721-01a678d1b3ff",
   "metadata": {},
   "source": [
    "### Plot"
   ]
  },
  {
   "cell_type": "code",
   "execution_count": 34,
   "id": "0ff09491-10b8-48ba-a4a5-7eff7c65340e",
   "metadata": {},
   "outputs": [],
   "source": [
    "%matplotlib qt"
   ]
  },
  {
   "cell_type": "code",
   "execution_count": 35,
   "id": "1841d535-1821-4225-bb6a-3461ac434937",
   "metadata": {},
   "outputs": [],
   "source": [
    "fig, axs = plt.subplots(3, 3, figsize=(18, 15))  # Ajuste o tamanho da figura conforme necessário\n",
    "#plt.rcParams['font.family'] = 'Times New Roman'\n",
    "\n",
    "plt.subplots_adjust(hspace=0.4, wspace=0.3)\n",
    "titles = [\n",
    "    '(a) Daily total sunspot area',\n",
    "    '(b) Monthly mean total sunspot area',\n",
    "    '(c) Yearly mean total sunspot area'\n",
    "]\n",
    "\n",
    "for i, (ax_row, title) in enumerate(zip(axs, titles)):\n",
    "    x_position = 0.5\n",
    "    y_position = 1.10 \n",
    "    for ax in ax_row:\n",
    "        ax.set_title('')\n",
    "    axs[i, 1].annotate(title, xy=(x_position, y_position), xycoords='axes fraction',\n",
    "                       fontsize=20, ha='center', va='bottom')\n",
    "\n",
    "axs[0, 0].plot(kod_atd_hn['Area'], color='k', label='Kodaikanal (KSO)')\n",
    "axs[0, 0].plot(green_atd_hn, color='b', label='Greenwich (RGO)')\n",
    "axs[0, 0].plot(atd_hn['Area'], color='r', label='Current work')\n",
    "#axs[0, 0].set_title('North hemisphere')\n",
    "#axs[0, 0].set_xlabel('Time (year)', fontsize=15)\n",
    "#axs[0, 0].set_ylabel('Area ($\\mu$ Hem)', fontsize=15)\n",
    "#axs[0, 0].legend(fontsize=15)\n",
    "#axs[0, 0].grid()\n",
    "\n",
    "axs[0, 1].plot(kod_atd_hs['Area'], color='k', label='Kodaikanal (KSO)')\n",
    "axs[0, 1].plot(green_atd_hs, color='b', label='Greenwich (RGO)')\n",
    "axs[0, 1].plot(atd_hs['Area'], color='r', label='Current work')\n",
    "#axs[0, 1].set_title('South hemisphere')\n",
    "#axs[0, 1].set_xlabel('Time (year)', fontsize=15)\n",
    "#axs[0, 1].set_ylabel('Area ($\\mu$ Hem)', fontsize=15)\n",
    "#axs[0, 1].legend(fontsize=15)\n",
    "#axs[0, 1].grid()\n",
    "\n",
    "axs[0, 2].plot(kod_atd['Area'], color='k', label='Kodaikanal (KSO)')\n",
    "axs[0, 2].plot(green_atd, color='b', label='Greenwich (RGO)')\n",
    "axs[0, 2].plot(atd['Area'], color='r', label='Current work')\n",
    "#axs[0, 2].set_title('Full disk')\n",
    "#axs[0, 2].set_xlabel('Time (Year)', fontsize=15)\n",
    "#axs[0, 2].set_ylabel('Area ($\\mu$ Hem)', fontsize=15)\n",
    "#axs[0, 2].legend(fontsize=15)\n",
    "#axs[0, 2].grid()\n",
    "\n",
    "axs[1, 0].plot(kod_atm_hn['Area'], color='k', label='Kodaikanal (KSO)')\n",
    "axs[1, 0].plot(green_atm_hn, color='b', label='Greenwich (RGO)')\n",
    "axs[1, 0].plot(atm_hn['Area'], color='r', label='Current work')\n",
    "#axs[1, 0].set_title('North hemisphere')\n",
    "#axs[1, 0].set_xlabel('Time (year)', fontsize=15)\n",
    "#axs[1, 0].set_ylabel('Area ($\\mu$ Hem)', fontsize=15)\n",
    "#axs[1, 0].legend(fontsize=15)\n",
    "#axs[1, 0].grid()\n",
    "\n",
    "axs[1, 1].plot(kod_atm_hs['Area'], color='k', label='Kodaikanal (KSO)')\n",
    "axs[1, 1].plot(green_atm_hs, color='b', label='Greenwich (RGO)')\n",
    "axs[1, 1].plot(atm_hs['Area'], color='r', label='Current work')\n",
    "#axs[1, 1].set_title('South hemisphere')\n",
    "#axs[1, 1].set_xlabel('Time (year)', fontsize=15)\n",
    "#axs[1, 1].set_ylabel('Area ($\\mu$ Hem)', fontsize=15)\n",
    "#axs[1, 1].legend(fontsize=15)\n",
    "#axs[1, 1].grid()\n",
    "\n",
    "axs[1, 2].plot(kod_atm['Area'], color='k', label='Kodaikanal (KSO)')\n",
    "axs[1, 2].plot(green_atm, color='b', label='Greenwich (RGO)')\n",
    "axs[1, 2].plot(atm['Area'], color='r', label='Current work')\n",
    "#axs[1, 2].set_title('Full disk')\n",
    "#axs[1, 2].set_xlabel('Time (year)', fontsize=15)\n",
    "#axs[1, 2].set_ylabel('Area ($\\mu$ Hem)', fontsize=15)\n",
    "#axs[1, 2].legend(fontsize=15)\n",
    "#axs[1, 2].grid()\n",
    "\n",
    "axs[2, 0].plot(kod_ata_hn['Area'], color='k', label='Kodaikanal (KSO)')\n",
    "axs[2, 0].plot(green_ata_hn, color='b', label='Greenwich (RGO)')\n",
    "axs[2, 0].plot(ata_hn['Area'], color='r', label='Current work')\n",
    "#axs[2, 0].set_title('North hemisphere')\n",
    "#axs[2, 0].set_xlabel('Time (year)', fontsize=15)\n",
    "#axs[2, 0].set_ylabel('Area ($\\mu$ Hem)', fontsize=15)\n",
    "#axs[2, 0].legend(fontsize=15)\n",
    "#axs[2, 0].grid()\n",
    "\n",
    "axs[2, 1].plot(kod_ata_hs['Area'], color='k', label='Kodaikanal (KSO)')\n",
    "axs[2, 1].plot(green_ata_hs, color='b', label='Greenwich (RGO)')\n",
    "axs[2, 1].plot(ata_hs['Area'], color='r', label='Current work')\n",
    "#axs[2, 1].set_title('South hemisphere')\n",
    "#axs[2, 1].set_xlabel('Time (year)', fontsize=15)\n",
    "#axs[2, 1].set_ylabel('Area ($\\mu$ Hem)', fontsize=15)\n",
    "#axs[2, 1].legend(fontsize=15)\n",
    "#axs[2, 1].grid()\n",
    "\n",
    "axs[2, 2].plot(kod_ata['Area'], color='k', label='Kodaikanal (KSO)')\n",
    "axs[2, 2].plot(green_ata, color='b', label='Greenwich (RGO)')\n",
    "axs[2, 2].plot(ata['Area'], color='r', label='Current work')\n",
    "#axs[2, 2].set_title('Full disk')\n",
    "#axs[2, 2].set_xlabel('Time (year)', fontsize=15)\n",
    "#axs[2, 2].set_ylabel('Area ($\\mu$ Hem)', fontsize=15)\n",
    "#axs[2, 2].legend(fontsize=15)\n",
    "#axs[2, 2].grid()\n",
    "\n",
    "\n",
    "#fig.savefig('Fig_10.eps', dpi=600, format='eps', bbox_inches='tight')\n",
    "\n",
    "plt.show()\n"
   ]
  },
  {
   "cell_type": "markdown",
   "id": "b30b6600-11ca-4665-8d69-e37d8e2e2365",
   "metadata": {},
   "source": [
    "## Correlations"
   ]
  },
  {
   "cell_type": "markdown",
   "id": "6f8d2a5b-cd6e-40d8-bbc7-6fee04e071c6",
   "metadata": {},
   "source": [
    "### Daily"
   ]
  },
  {
   "cell_type": "code",
   "execution_count": null,
   "id": "c12a70bc-25aa-4419-a5a6-5ae9fb02bf66",
   "metadata": {},
   "outputs": [],
   "source": [
    "atd_clear = atd.replace(0, pd.NA).dropna()\n",
    "kod_atd_clear = kod_atd.replace(0, pd.NA).dropna()\n",
    "green_atd_clear = green_atd.replace(0, pd.NA).dropna()"
   ]
  },
  {
   "cell_type": "code",
   "execution_count": null,
   "id": "4d443f5c-f787-4077-b95f-4b9ec3e96d8e",
   "metadata": {},
   "outputs": [],
   "source": [
    "common_index = atd_clear.index.intersection(kod_atd_clear.index).intersection(green_atd_clear.index)"
   ]
  },
  {
   "cell_type": "code",
   "execution_count": null,
   "id": "3d217e61-9f1a-4163-824d-ee6941f1678f",
   "metadata": {},
   "outputs": [],
   "source": [
    "df_a = atd_clear.loc[common_index]\n",
    "df_b = green_atd_clear.loc[common_index]\n",
    "df_c = kod_atd_clear.loc[common_index]"
   ]
  },
  {
   "cell_type": "markdown",
   "id": "c996d234-08a5-4ed3-9f34-bca065b3d54a",
   "metadata": {},
   "source": [
    "### Current x Greenwich"
   ]
  },
  {
   "cell_type": "code",
   "execution_count": null,
   "id": "7923d28f-8457-481f-b4f6-2f79a55eedef",
   "metadata": {},
   "outputs": [],
   "source": [
    "correlation_g = df_a['Area'].corr(df_b['Total'])\n",
    "correlation_g"
   ]
  },
  {
   "cell_type": "markdown",
   "id": "eddcdee6-5fbd-4e1f-95de-f0ef7a7e082d",
   "metadata": {},
   "source": [
    "### Current X Kodaikanal"
   ]
  },
  {
   "cell_type": "code",
   "execution_count": null,
   "id": "05cee807-b68c-4da8-bf04-2c5ae6466c9c",
   "metadata": {},
   "outputs": [],
   "source": [
    "correlation_k = df_a['Area'].corr(df_c['Area']) \n",
    "correlation_k "
   ]
  },
  {
   "cell_type": "markdown",
   "id": "a52ac68a-51e2-4450-a348-54ed15992a30",
   "metadata": {},
   "source": [
    "## Line adjustment for total areas"
   ]
  },
  {
   "cell_type": "markdown",
   "id": "4e4c7949-2af0-4b66-937d-bf4a0e73fc78",
   "metadata": {},
   "source": [
    "### Daily"
   ]
  },
  {
   "cell_type": "code",
   "execution_count": null,
   "id": "615dad2b-aad3-4307-8f1d-f79cc4920fd4",
   "metadata": {},
   "outputs": [],
   "source": [
    "def f(x,a,b):\n",
    "    return a*x + b"
   ]
  },
  {
   "cell_type": "code",
   "execution_count": null,
   "id": "583f6e8e-f089-47bd-aea7-69a29de5019f",
   "metadata": {},
   "outputs": [],
   "source": [
    "import scipy\n",
    "from scipy import optimize"
   ]
  },
  {
   "cell_type": "code",
   "execution_count": null,
   "id": "31b8ae1c-4c67-44ba-9b9e-ae0e59405752",
   "metadata": {},
   "outputs": [],
   "source": [
    "x = df_a['Area']\n",
    "y = df_b['Total']"
   ]
  },
  {
   "cell_type": "code",
   "execution_count": null,
   "id": "35240370-275b-4d60-9a90-da9ef0fc9113",
   "metadata": {},
   "outputs": [],
   "source": [
    "guess = [1,1]\n",
    "\n",
    "params, params_covariance = scipy.optimize.curve_fit(f, x, y, guess)\n",
    "params\n",
    "\n",
    "a_1 = params[0]\n",
    "b_1 = params[1]\n",
    "\n",
    "print(\"Coeficiente a:\")\n",
    "print(a_1)\n",
    "print(\"Coeficiente b:\")\n",
    "print(b_1)"
   ]
  },
  {
   "cell_type": "code",
   "execution_count": null,
   "id": "01671c81-124e-4bea-aa02-ac6c1c2e8b85",
   "metadata": {},
   "outputs": [],
   "source": [
    "yy = df_c['Area']"
   ]
  },
  {
   "cell_type": "code",
   "execution_count": null,
   "id": "2b58efe8-f8f2-4e27-a141-76f8f8bc68d5",
   "metadata": {},
   "outputs": [],
   "source": [
    "guess = [1,1]\n",
    "\n",
    "params, params_covariance = scipy.optimize.curve_fit(f, x, yy, guess)\n",
    "params\n",
    "\n",
    "a_2 = params[0]\n",
    "b_2 = params[1]\n",
    "\n",
    "print(\"Coeficiente a:\")\n",
    "print(a_2)\n",
    "print(\"Coeficiente b:\")\n",
    "print(b_2)"
   ]
  },
  {
   "cell_type": "markdown",
   "id": "dc8a3fee-8ea2-45a7-b6f1-40766488f3cc",
   "metadata": {},
   "source": [
    "### Monthly Averages"
   ]
  },
  {
   "cell_type": "code",
   "execution_count": null,
   "id": "d1bc1ed9-0f17-4aad-8943-e2d7f5572fb4",
   "metadata": {},
   "outputs": [],
   "source": [
    "df_aa = df_a.resample('M').mean()\n",
    "df_aa = df_aa.dropna()\n",
    "df_bb = df_b.resample('M').mean()\n",
    "df_bb = df_bb.dropna()\n",
    "df_cc = df_c.resample('M').mean()\n",
    "df_cc = df_cc.dropna()"
   ]
  },
  {
   "cell_type": "markdown",
   "id": "62cafb8a-d8e1-4ce8-9788-f5a852281a0f",
   "metadata": {},
   "source": [
    "### Current X Greenwich"
   ]
  },
  {
   "cell_type": "code",
   "execution_count": null,
   "id": "ffe83c25-6846-4e94-91ff-238686b2f557",
   "metadata": {},
   "outputs": [],
   "source": [
    "correlation_g_m = df_aa['Area'].corr(df_bb['Total']) "
   ]
  },
  {
   "cell_type": "code",
   "execution_count": null,
   "id": "c3885f35-1c9f-4250-847b-b71d7ea4e322",
   "metadata": {},
   "outputs": [],
   "source": [
    "correlation_g_m"
   ]
  },
  {
   "cell_type": "markdown",
   "id": "86f34036-e61c-48f8-bc6b-38fa2077edfb",
   "metadata": {},
   "source": [
    "### Current x kodaikanal"
   ]
  },
  {
   "cell_type": "code",
   "execution_count": null,
   "id": "a3fe6d02-8cdd-4ae6-a337-bc66735e3ebe",
   "metadata": {},
   "outputs": [],
   "source": [
    "correlation_k_m = df_aa['Area'].corr(df_cc['Area']) "
   ]
  },
  {
   "cell_type": "code",
   "execution_count": null,
   "id": "bb9d6e31-91e5-4b7b-bbe4-5c1b24ab748d",
   "metadata": {},
   "outputs": [],
   "source": [
    "correlation_k_m"
   ]
  },
  {
   "cell_type": "markdown",
   "id": "8bb29afc-24bd-4973-9577-304a75bb46b8",
   "metadata": {},
   "source": [
    "## Line adjustment for monthly average areas"
   ]
  },
  {
   "cell_type": "code",
   "execution_count": null,
   "id": "5c355f69-de3d-4ded-a361-87bf0cfbf9be",
   "metadata": {},
   "outputs": [],
   "source": [
    "xm = df_aa['Area']\n",
    "ym = df_bb['Total']\n",
    "\n",
    "guess = [1,1]\n",
    "\n",
    "params, params_covariance = scipy.optimize.curve_fit(f, xm, ym, guess)\n",
    "params\n",
    "\n",
    "a_1_m = params[0]\n",
    "b_1_m = params[1]\n",
    "\n",
    "print(\"Coeficiente a:\")\n",
    "print(a_1_m)\n",
    "print(\"Coeficiente b:\")\n",
    "print(b_1_m)"
   ]
  },
  {
   "cell_type": "code",
   "execution_count": null,
   "id": "7a1f6b57-165a-46e2-ac3f-bed9f33d746b",
   "metadata": {},
   "outputs": [],
   "source": [
    "yym = df_cc['Area']\n",
    "\n",
    "guess = [1,1]\n",
    "\n",
    "params, params_covariance = scipy.optimize.curve_fit(f, xm, yym, guess)\n",
    "params\n",
    "\n",
    "a_2_m = params[0]\n",
    "b_2_m = params[1]\n",
    "\n",
    "print(\"Coeficiente a:\")\n",
    "print(a_1_m)\n",
    "print(\"Coeficiente b:\")\n",
    "print(b_1_m)"
   ]
  },
  {
   "cell_type": "markdown",
   "id": "aec709da-26c7-4d75-9f5d-4002a109487b",
   "metadata": {},
   "source": [
    "## Annual Averages"
   ]
  },
  {
   "cell_type": "code",
   "execution_count": null,
   "id": "a5c231ee-8b2a-4078-9108-e7c8fb36b2b6",
   "metadata": {},
   "outputs": [],
   "source": [
    "df_aaa = df_a.resample('Y').mean()\n",
    "df_aaa = df_aaa.dropna()\n",
    "df_bbb = df_b.resample('Y').mean()\n",
    "df_bbb = df_bbb.dropna()\n",
    "df_ccc = df_c.resample('Y').mean()\n",
    "df_ccc = df_ccc.dropna()"
   ]
  },
  {
   "cell_type": "markdown",
   "id": "15189daa-6a90-408b-a830-81750a18cd65",
   "metadata": {},
   "source": [
    "### Current X Greenwich"
   ]
  },
  {
   "cell_type": "code",
   "execution_count": null,
   "id": "865ba379-da40-42f7-89db-01b6b23e639d",
   "metadata": {},
   "outputs": [],
   "source": [
    "correlation_g_a = df_aaa['Area'].corr(df_bbb['Total']) \n",
    "correlation_g_a"
   ]
  },
  {
   "cell_type": "markdown",
   "id": "ff480f4f-c064-49c1-87a3-85adae4ad70e",
   "metadata": {},
   "source": [
    "### Current x kodaikanal"
   ]
  },
  {
   "cell_type": "code",
   "execution_count": null,
   "id": "51aa471b-8b31-48d4-91a7-bb3dd2459278",
   "metadata": {},
   "outputs": [],
   "source": [
    "correlation_k_a = df_aaa['Area'].corr(df_ccc['Area']) \n",
    "correlation_k_a"
   ]
  },
  {
   "cell_type": "markdown",
   "id": "ad370daf-4523-457e-a9a7-b8a6ee98340b",
   "metadata": {},
   "source": [
    "## Line adjustment for annual average areas"
   ]
  },
  {
   "cell_type": "code",
   "execution_count": null,
   "id": "798f95e5-7e70-425a-9367-e265087fb3db",
   "metadata": {},
   "outputs": [],
   "source": [
    "xa = df_aaa['Area']\n",
    "ya = df_bbb['Total']\n",
    "\n",
    "guess = [1,1]\n",
    "\n",
    "params, params_covariance = scipy.optimize.curve_fit(f, xa, ya, guess)\n",
    "params\n",
    "\n",
    "a_1_a = params[0]\n",
    "b_1_a = params[1]\n",
    "\n",
    "print(\"Coeficiente a:\")\n",
    "print(a_1_a)\n",
    "print(\"Coeficiente b:\")\n",
    "print(b_1_a)"
   ]
  },
  {
   "cell_type": "code",
   "execution_count": null,
   "id": "0bd3eaaf-daf4-4c6d-b9a0-436c6334609f",
   "metadata": {},
   "outputs": [],
   "source": [
    "yya = df_ccc['Area']\n",
    "\n",
    "guess = [1,1]\n",
    "\n",
    "params, params_covariance = scipy.optimize.curve_fit(f, xa, yya, guess)\n",
    "params\n",
    "\n",
    "a_2_a = params[0]\n",
    "b_2_a = params[1]\n",
    "\n",
    "print(\"Coeficiente a:\")\n",
    "print(a_1_a)\n",
    "print(\"Coeficiente b:\")\n",
    "print(b_1_a)"
   ]
  },
  {
   "cell_type": "code",
   "execution_count": null,
   "id": "f9eb44f3-eb30-44b1-865c-48e15ba6fa22",
   "metadata": {},
   "outputs": [],
   "source": [
    "fig, axs = plt.subplots(3, 2, figsize=(13, 10))\n",
    "#plt.rcParams['font.family'] = 'Times New Roman'\n",
    "\n",
    "plt.subplots_adjust(hspace=0.7, wspace=0.3)\n",
    "\n",
    "titles = [\n",
    "    '(a) Line adjustment and correlation coefficient for daily total sunspot area',\n",
    "    '(b) Line adjustment and correlation coefficient for monthly mean total sunspot area',\n",
    "    '(c) Line adjustment and correlation coefficient for yearly mean total sunspot area'\n",
    "]\n",
    "\n",
    "for i, (ax_row, title) in enumerate(zip(axs, titles)):\n",
    "    x_position = -0.2\n",
    "    y_position = 1.18 \n",
    "    for ax in ax_row:\n",
    "        ax.set_title('')  \n",
    "    axs[i, 1].annotate(title, xy=(x_position, y_position), xycoords='axes fraction',\n",
    "                       fontsize=20, ha='center', va='bottom')\n",
    "\n",
    "axs[0, 0].scatter(x, y, color='black', marker='.')\n",
    "axs[0, 0].plot(np.linspace(-30, 10000, 100), f(np.linspace(-30, 10000, 100), a_1, b_1), color=\"red\", label='Curva ajustada')\n",
    "axs[0, 0].text(0, 10000, f'a = {a_1:.5f}', fontsize=10)\n",
    "axs[0, 0].text(0, 9000, f'b = {b_1:.5f}', fontsize=10)\n",
    "axs[0, 0].text(0, 8000, f'Correlation = {correlation_g:.5f}', fontsize=10)\n",
    "axs[0, 0].set_ylabel(r'Area ($\\mu$ Hem) - Greenwich', fontsize=15)\n",
    "axs[0, 0].set_xlabel(r'Area ($\\mu$ Hem) - Current work', fontsize=15)\n",
    "axs[0, 0].set_title(r'Current work $\\times$ Greenwich')\n",
    "\n",
    "axs[0, 1].scatter(x, yy, color='black', marker='.')\n",
    "axs[0, 1].plot(np.linspace(-30, 10000, 100), f(np.linspace(-30, 10000, 100), a_2, b_2), color=\"red\", label='Curva ajustada')\n",
    "axs[0, 1].text(0, 11900, f'a = {a_2:.5f}', fontsize=10)\n",
    "axs[0, 1].text(0, 10700, f'b = {b_2:.5f}', fontsize=10)\n",
    "axs[0, 1].text(0, 9500, f'Correlation = {correlation_k:.5f}', fontsize=10)\n",
    "axs[0, 1].set_ylabel(r'Area ($\\mu$ Hem) - Kodaikanal', fontsize=15)\n",
    "axs[0, 1].set_xlabel(r'Area ($\\mu$ Hem) - Current work', fontsize=15)\n",
    "axs[0, 1].set_title(r'Current work $\\times$ Kodaikanal')\n",
    "\n",
    "axs[1, 0].scatter(xm, ym, color='black', marker='.')\n",
    "axs[1, 0].plot(np.linspace(-30, 4000, 100), f(np.linspace(-30, 4000, 100), a_1_m, b_1_m), color=\"red\", label='Curva ajustada')\n",
    "axs[1, 0].text(0, 4000, f'a = {a_1_m:.5f}', fontsize=10)\n",
    "axs[1, 0].text(0, 3500, f'b = {b_1_m:.5f}', fontsize=10)\n",
    "axs[1, 0].text(0, 3000, f'Correlation = {correlation_g_m:.5f}', fontsize=10)\n",
    "axs[1, 0].set_ylabel(r'Area ($\\mu$ Hem) - Greenwich', fontsize=15)\n",
    "axs[1, 0].set_xlabel(r'Area ($\\mu$ Hem) - Current work', fontsize=15)\n",
    "axs[1, 0].set_title(r'Current work $\\times$ Greenwich')\n",
    "\n",
    "axs[1, 1].scatter(xm, yym, color='black', marker='.')\n",
    "axs[1, 1].plot(np.linspace(-30, 4000, 100), f(np.linspace(-30, 4000, 100), a_2_m, b_2_m), color=\"red\", label='Curva ajustada')\n",
    "axs[1, 1].text(0, 5000, f'a = {a_2_m:.5f}', fontsize=10)\n",
    "axs[1, 1].text(0, 4500, f'b = {b_2_m:.5f}', fontsize=10)\n",
    "axs[1, 1].text(0, 4000, f'Correlation = {correlation_k_m:.5f}', fontsize=10)\n",
    "axs[1, 1].set_ylabel(r'Area ($\\mu$ Hem) - Kodaikanal', fontsize=15)\n",
    "axs[1, 1].set_xlabel(r'Area ($\\mu$ Hem) - Current work', fontsize=15)\n",
    "axs[1, 1].set_title(r'Current work $\\times$ Kodaikanal')\n",
    "\n",
    "axs[2, 0].scatter(xa, ya, color='black', marker='.')\n",
    "axs[2, 0].plot(np.linspace(-30, 2000, 100), f(np.linspace(-30, 2000, 100), a_1_a, b_1_a), color=\"red\", label='Curva ajustada')\n",
    "axs[2, 0].text(0, 2000, f'a = {a_1_a:.5f}', fontsize=10)\n",
    "axs[2, 0].text(0, 1750, f'b = {b_1_a:.5f}', fontsize=10)\n",
    "axs[2, 0].text(0, 1500, f'Correlation = {correlation_g_a:.5f}', fontsize=10)\n",
    "axs[2, 0].set_ylabel(r'Area ($\\mu$ Hem) - Greenwich', fontsize=15)\n",
    "axs[2, 0].set_xlabel(r'Area ($\\mu$ Hem) - Current work', fontsize=15)\n",
    "axs[2, 0].set_title(r'Current work $\\times$ Greenwich')\n",
    "\n",
    "axs[2, 1].scatter(xa, yya, color='black', marker='.')\n",
    "axs[2, 1].plot(np.linspace(-30, 2000, 100), f(np.linspace(-30, 2000, 100), a_2_a, b_2_a), color=\"red\", label='Curva ajustada')\n",
    "axs[2, 1].text(0, 2500, f'a = {a_2_a:.5f}', fontsize=10)\n",
    "axs[2, 1].text(0, 2250, f'b = {b_2_a:.5f}', fontsize=10)\n",
    "axs[2, 1].text(0, 2000, f'Correlation = {correlation_k_a:.5f}', fontsize=10)\n",
    "axs[2, 1].set_ylabel(r'Area ($\\mu$ Hem) - Kodaikanal', fontsize=15)\n",
    "axs[2, 1].set_xlabel(r'Area ($\\mu$ Hem) - Current work', fontsize=15)\n",
    "axs[2, 1].set_title(r'Current work $\\times$ Kodaikanal')\n",
    "\n",
    "plt.show()\n",
    "#fig.savefig('Fig_11.eps', dpi=600, format='eps', bbox_inches='tight')"
   ]
  },
  {
   "cell_type": "markdown",
   "id": "a102f571-6732-4f94-a892-6131ddc6507a",
   "metadata": {},
   "source": [
    "# 5° Number of sunspots"
   ]
  },
  {
   "cell_type": "markdown",
   "id": "3ad6e19e-59a6-4ae2-a3a8-a50561aa674e",
   "metadata": {},
   "source": [
    "## Daily"
   ]
  },
  {
   "cell_type": "markdown",
   "id": "2afc3a48-81a3-47ca-9396-31191eaa27f3",
   "metadata": {},
   "source": [
    "### SIDIC"
   ]
  },
  {
   "cell_type": "code",
   "execution_count": null,
   "id": "cb9721e4-4c5c-4be2-9ad8-8a00e8e4ab2a",
   "metadata": {},
   "outputs": [],
   "source": [
    "SN_D = pd.read_csv('SN_d_hem_V2.0.csv', sep=',')"
   ]
  },
  {
   "cell_type": "code",
   "execution_count": null,
   "id": "29f8bb5b-2a79-4b2a-a056-ddc841ad21db",
   "metadata": {},
   "outputs": [],
   "source": [
    "SN_D"
   ]
  },
  {
   "cell_type": "markdown",
   "id": "9f125619-f84e-4e2e-b955-e4acde28fbff",
   "metadata": {},
   "source": [
    "### Daily"
   ]
  },
  {
   "cell_type": "code",
   "execution_count": null,
   "id": "699af07f-3cbe-43fc-8651-c55459b36e00",
   "metadata": {},
   "outputs": [],
   "source": [
    "atual"
   ]
  },
  {
   "cell_type": "code",
   "execution_count": null,
   "id": "a0e9c2b0-1561-490e-b013-f0108c30582f",
   "metadata": {},
   "outputs": [],
   "source": [
    "mpd = atual['Lat'].resample('D').count()"
   ]
  },
  {
   "cell_type": "code",
   "execution_count": null,
   "id": "3c43fe76-e643-4768-9e3f-e2e6ae9d7cf1",
   "metadata": {},
   "outputs": [],
   "source": [
    "atual_grupos = pd.read_csv('Groups_test.csv')"
   ]
  },
  {
   "cell_type": "code",
   "execution_count": null,
   "id": "17c05596-e893-46a0-9596-65536b6e0ddf",
   "metadata": {},
   "outputs": [],
   "source": [
    "atual_grupos"
   ]
  },
  {
   "cell_type": "code",
   "execution_count": null,
   "id": "e47b4be2-e3ff-4592-a500-56ff2d856759",
   "metadata": {},
   "outputs": [],
   "source": [
    "Dia = [i for i in atual_grupos['Date']]\n",
    "Dia = [i[0:10] for i in Dia]"
   ]
  },
  {
   "cell_type": "code",
   "execution_count": null,
   "id": "197ffea6-4274-4d66-a09b-cf953a1bdb97",
   "metadata": {},
   "outputs": [],
   "source": [
    "Dia = Time(Dia)"
   ]
  },
  {
   "cell_type": "code",
   "execution_count": null,
   "id": "b6cf2d9e-c816-4678-9d83-18676f0b8162",
   "metadata": {},
   "outputs": [],
   "source": [
    "manchas_dia = [i for i in mpd.values]"
   ]
  },
  {
   "cell_type": "code",
   "execution_count": null,
   "id": "57f95035-f5af-413e-b8f9-5e266611d0a1",
   "metadata": {},
   "outputs": [],
   "source": [
    "grupos_dia = [i for i in atual_grupos['Number_of_Sunspot_Groups']]"
   ]
  },
  {
   "cell_type": "code",
   "execution_count": null,
   "id": "a89a7844-5e43-4813-a19d-96f1770a4506",
   "metadata": {},
   "outputs": [],
   "source": [
    "NDF = pd.DataFrame({'Dia': Dia, 'Manchas_Individuais': manchas_dia, 'Grupos de Manchas': grupos_dia})"
   ]
  },
  {
   "cell_type": "code",
   "execution_count": null,
   "id": "f9e3cc31-bab5-433c-a863-cf97927cbc29",
   "metadata": {},
   "outputs": [],
   "source": [
    "NDF"
   ]
  },
  {
   "cell_type": "code",
   "execution_count": null,
   "id": "df0143fc-9e52-49ed-a900-2fa63c531c4f",
   "metadata": {},
   "outputs": [],
   "source": [
    "NDF['Número Internacional de Manchas'] = (NDF['Manchas_Individuais'] + 1.98*(10*NDF['Grupos de Manchas']))"
   ]
  },
  {
   "cell_type": "code",
   "execution_count": null,
   "id": "f57378d8-7b2b-4018-8117-a4081de35377",
   "metadata": {},
   "outputs": [],
   "source": [
    "NDF"
   ]
  },
  {
   "cell_type": "code",
   "execution_count": null,
   "id": "44a54794-73dd-48c2-97c5-584345049e5c",
   "metadata": {},
   "outputs": [],
   "source": [
    "SN_D['Número total diário']"
   ]
  },
  {
   "cell_type": "code",
   "execution_count": null,
   "id": "aa634ce3-26c2-44c9-b164-d09bb580c553",
   "metadata": {},
   "outputs": [],
   "source": [
    "ts2 = TimeSeries(time = Dia)\n",
    "ts2['SIDIC - Número total diário'] = SN_D['Número total diário']\n",
    "ts2['CW - Número Internacional de Manchas'] = NDF['Número Internacional de Manchas']"
   ]
  },
  {
   "cell_type": "code",
   "execution_count": null,
   "id": "07faa4e9-059e-4ea8-bc4b-3792d47e041f",
   "metadata": {},
   "outputs": [],
   "source": [
    "ts2 = ts2.to_pandas()"
   ]
  },
  {
   "cell_type": "code",
   "execution_count": null,
   "id": "398f952c-fe9b-4e69-a1be-080241cbe01d",
   "metadata": {},
   "outputs": [],
   "source": [
    "media = ts2.resample('M').mean()"
   ]
  },
  {
   "cell_type": "code",
   "execution_count": null,
   "id": "3a2b6048-2bef-4303-bee4-3dbc2885561b",
   "metadata": {},
   "outputs": [],
   "source": [
    "media_2  = ts2.resample('Y').mean()"
   ]
  },
  {
   "cell_type": "code",
   "execution_count": null,
   "id": "1934653b-0eec-44f7-a998-c27a7fbe1315",
   "metadata": {},
   "outputs": [],
   "source": [
    "fig, ax = plt.subplots(1,3, figsize=(18, 5))\n",
    "\n",
    "#plt.rcParams['font.family'] = 'Times New Roman'\n",
    "\n",
    "ax[0].plot(ts2['CW - Número Internacional de Manchas'], 'r', label='Current work')\n",
    "ax[0].plot(ts2['SIDIC - Número total diário'], '--k', label='ISN - SIDIC')\n",
    "\n",
    "\n",
    "ax[0].set_title('(a) Daily total sunspot number', fontsize=15)\n",
    "ax[0].set_xlabel('Time (year)', fontsize=15)\n",
    "ax[0].set_ylabel('Number', fontsize=15)\n",
    "ax[0].legend(fontsize = 10)\n",
    "ax[0].grid()\n",
    "\n",
    "ax[1].plot(media['CW - Número Internacional de Manchas'], 'r', label='Current work')\n",
    "ax[1].plot(media['SIDIC - Número total diário'], '--k', label='ISN - SIDIC')\n",
    "\n",
    "\n",
    "ax[1].set_title('(b) Monthly mean total sunspot number', fontsize=15)\n",
    "ax[1].set_xlabel('Time (year)', fontsize=15)\n",
    "ax[1].set_ylabel('Number', fontsize=15)\n",
    "ax[1].legend(fontsize = 10)\n",
    "ax[1].grid()\n",
    "\n",
    "ax[2].plot(media_2['CW - Número Internacional de Manchas'], 'r', label='Current work')\n",
    "ax[2].plot(media_2['SIDIC - Número total diário'], '--k', label='ISN - SIDIC')\n",
    "\n",
    "\n",
    "ax[2].set_title('(c) Yearly mean total sunspot number', fontsize=15)\n",
    "ax[2].set_xlabel('Time (year)', fontsize=15)\n",
    "ax[2].set_ylabel('Number', fontsize=15)\n",
    "ax[2].legend(fontsize = 10)\n",
    "ax[2].grid()\n",
    "\n",
    "#fig.savefig('Fig_12.eps', dpi=600, format='eps', bbox_inches='tight')"
   ]
  },
  {
   "cell_type": "code",
   "execution_count": null,
   "id": "37c7abbf-529b-4a08-a1eb-5a45d65273d4",
   "metadata": {},
   "outputs": [],
   "source": []
  },
  {
   "cell_type": "code",
   "execution_count": null,
   "id": "9b4fd653-da4c-49c2-b20e-3bcf56246b26",
   "metadata": {},
   "outputs": [],
   "source": []
  }
 ],
 "metadata": {
  "kernelspec": {
   "display_name": "Python 3 (ipykernel)",
   "language": "python",
   "name": "python3"
  },
  "language_info": {
   "codemirror_mode": {
    "name": "ipython",
    "version": 3
   },
   "file_extension": ".py",
   "mimetype": "text/x-python",
   "name": "python",
   "nbconvert_exporter": "python",
   "pygments_lexer": "ipython3",
   "version": "3.13.5"
  }
 },
 "nbformat": 4,
 "nbformat_minor": 5
}
